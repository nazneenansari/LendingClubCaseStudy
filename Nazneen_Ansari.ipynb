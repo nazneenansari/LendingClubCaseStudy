{
 "cells": [
  {
   "cell_type": "markdown",
   "id": "7b8ac9ae",
   "metadata": {},
   "source": [
    "# Exploratory Data Analysis"
   ]
  },
  {
   "cell_type": "markdown",
   "id": "3849efc8",
   "metadata": {},
   "source": [
    "<a id=section1></a>\n",
    "### 1. Problem Statement "
   ]
  },
  {
   "cell_type": "markdown",
   "id": "15fe2bf1",
   "metadata": {},
   "source": [
    "The company wants to understand the driving factors (or driver variables) behind loan default, i.e. the variables which are strong indicators of default.  The company can utilise this knowledge for its portfolio and risk assessment."
   ]
  },
  {
   "cell_type": "markdown",
   "id": "3c7e0c71",
   "metadata": {},
   "source": [
    "### 2. Data Loading and Description <a id=section2></a>"
   ]
  },
  {
   "cell_type": "markdown",
   "id": "edafe48d",
   "metadata": {},
   "source": [
    "<a id=section201></a> Dataset contains the complete loan data for all loans issued through the time period 2007 t0 2011.\n"
   ]
  },
  {
   "cell_type": "markdown",
   "id": "023057bc",
   "metadata": {},
   "source": [
    "#### Importing packages                "
   ]
  },
  {
   "cell_type": "code",
   "execution_count": null,
   "id": "fa015da4",
   "metadata": {},
   "outputs": [],
   "source": [
    "#pip install https://github.com/pandas-profiling/pandas-profiling/archive/master.zip"
   ]
  },
  {
   "cell_type": "code",
   "execution_count": null,
   "id": "2af5adb2",
   "metadata": {},
   "outputs": [],
   "source": [
    "#pip install chart_studio"
   ]
  },
  {
   "cell_type": "code",
   "execution_count": null,
   "id": "c9dbf065",
   "metadata": {},
   "outputs": [],
   "source": [
    "#pip install wordcloud"
   ]
  },
  {
   "cell_type": "code",
   "execution_count": null,
   "id": "a16e2e1f",
   "metadata": {},
   "outputs": [],
   "source": [
    "import sys                                                                      # Import packages\n",
    "import pandas as pd\n",
    "import seaborn as sns\n",
    "import numpy as np\n",
    "import matplotlib\n",
    "import pandas_profiling as pp\n",
    "import matplotlib.pyplot as plt\n",
    "from matplotlib.pyplot import pie, axis, show\n",
    "import plotly\n",
    "import chart_studio.plotly as py\n",
    "import plotly.graph_objs as go\n",
    "\n",
    "#from wordcloud import WordCloud \n",
    "\n",
    "#%matplotlib inline                                                              \n",
    "\n",
    "import warnings                                                                 # Ignore warning related to pandas_profiling\n",
    "warnings.filterwarnings('ignore') \n",
    "\n",
    "pd.set_option('display.max_columns', 100)                                       # Display all dataframe columns in outputs\n",
    "                                                                              # This sets it up to display with a horizontal scroll instead of hiding the middle columns\n",
    "pd.options.display.min_rows = 150    \n",
    "    "
   ]
  },
  {
   "cell_type": "markdown",
   "id": "f4760858",
   "metadata": {},
   "source": [
    "#### Importing the Dataset"
   ]
  },
  {
   "cell_type": "code",
   "execution_count": null,
   "id": "00fdaf68",
   "metadata": {},
   "outputs": [],
   "source": [
    "loan_data= pd.read_csv('loan.csv')   # Importing training dataset using pd.read_csv"
   ]
  },
  {
   "cell_type": "markdown",
   "id": "cce0c4ed",
   "metadata": {},
   "source": [
    "### 3. Data Profiling <a id=section3></a>"
   ]
  },
  {
   "cell_type": "markdown",
   "id": "3be39517",
   "metadata": {},
   "source": [
    "### 3.1 Understanding the Dataset <a id=section301></a>"
   ]
  },
  {
   "cell_type": "code",
   "execution_count": null,
   "id": "fcebd601",
   "metadata": {},
   "outputs": [],
   "source": [
    "loan_data.shape"
   ]
  },
  {
   "cell_type": "markdown",
   "id": "bd5c9e10",
   "metadata": {},
   "source": [
    "Loan data has __39717 rows__ and __111 columns.__"
   ]
  },
  {
   "cell_type": "code",
   "execution_count": null,
   "id": "8e8e89bd",
   "metadata": {},
   "outputs": [],
   "source": [
    "loan_data.head()"
   ]
  },
  {
   "cell_type": "code",
   "execution_count": null,
   "id": "51d3c2e6",
   "metadata": {},
   "outputs": [],
   "source": [
    "loan_data.tail()"
   ]
  },
  {
   "cell_type": "code",
   "execution_count": null,
   "id": "f2389b9e",
   "metadata": {},
   "outputs": [],
   "source": [
    "loan_data.info()                                         # This will give Index, Datatype and Memory information"
   ]
  },
  {
   "cell_type": "code",
   "execution_count": null,
   "id": "36a6aac0",
   "metadata": {},
   "outputs": [],
   "source": [
    "loan_data.describe()"
   ]
  },
  {
   "cell_type": "code",
   "execution_count": null,
   "id": "a5e0337f",
   "metadata": {},
   "outputs": [],
   "source": [
    "loan_data.isnull().sum()"
   ]
  },
  {
   "cell_type": "markdown",
   "id": "69ee98d0",
   "metadata": {},
   "source": [
    "### 3.2 Pre Profiling <a id=section302></a>"
   ]
  },
  {
   "cell_type": "code",
   "execution_count": null,
   "id": "dd66a522",
   "metadata": {},
   "outputs": [],
   "source": [
    "profile = pp.ProfileReport(loan_data)\n",
    "profile.to_file(\"loan_data_before_preprocessing.html\")"
   ]
  },
  {
   "cell_type": "markdown",
   "id": "b5a5258f",
   "metadata": {},
   "source": [
    "### 3.3 Preprocessing <a id=section303></a>"
   ]
  },
  {
   "cell_type": "markdown",
   "id": "2d4afd21",
   "metadata": {},
   "source": [
    "- Dealing with missing values<br/>\n",
    "    - Dropping the column which has all the rows(39717) as null or NA"
   ]
  },
  {
   "cell_type": "code",
   "execution_count": null,
   "id": "d4e6fc93",
   "metadata": {},
   "outputs": [],
   "source": [
    "loan_column_drop = []\n",
    "obj = loan_data.isnull().sum()\n",
    "for key,value in obj.iteritems():\n",
    "    if(value == 39717):  # all null ,NA or 0\n",
    "        #print(key,\",\",value)\n",
    "        loan_column_drop.append(f'{key}')\n",
    "print(loan_column_drop)"
   ]
  },
  {
   "cell_type": "code",
   "execution_count": null,
   "id": "52bb43fa",
   "metadata": {},
   "outputs": [],
   "source": [
    "loan_data.drop(loan_column_drop, axis = 1,inplace = True) # dropped null columns"
   ]
  },
  {
   "cell_type": "code",
   "execution_count": null,
   "id": "aee90973",
   "metadata": {},
   "outputs": [],
   "source": [
    "loan_data.shape "
   ]
  },
  {
   "cell_type": "code",
   "execution_count": null,
   "id": "4a1fe28b",
   "metadata": {},
   "outputs": [],
   "source": [
    "loan_data.isnull().sum()"
   ]
  },
  {
   "cell_type": "markdown",
   "id": "613b2fc3",
   "metadata": {},
   "source": [
    "- Extract number of months from term column"
   ]
  },
  {
   "cell_type": "code",
   "execution_count": null,
   "id": "a9274c05",
   "metadata": {},
   "outputs": [],
   "source": [
    "loan_data.term = loan_data.term.apply(lambda x: x.rstrip('months')).astype('int64')"
   ]
  },
  {
   "cell_type": "code",
   "execution_count": null,
   "id": "c29eab6d",
   "metadata": {},
   "outputs": [],
   "source": [
    "loan_data.term.dtype"
   ]
  },
  {
   "cell_type": "markdown",
   "id": "c8c759f3",
   "metadata": {},
   "source": [
    "- Extract number of years from emp_length column"
   ]
  },
  {
   "cell_type": "code",
   "execution_count": null,
   "id": "9347c489",
   "metadata": {},
   "outputs": [],
   "source": [
    "loan_data.emp_length = loan_data.emp_length.astype('str').apply(lambda x : x.replace('years', '').replace('year', ''))"
   ]
  },
  {
   "cell_type": "code",
   "execution_count": null,
   "id": "65ddc077",
   "metadata": {},
   "outputs": [],
   "source": [
    "loan_data.emp_length.dtype"
   ]
  },
  {
   "cell_type": "markdown",
   "id": "1951c787",
   "metadata": {},
   "source": [
    "- Convert interest rate from string to float"
   ]
  },
  {
   "cell_type": "code",
   "execution_count": null,
   "id": "660e08f6",
   "metadata": {},
   "outputs": [],
   "source": [
    "loan_data.int_rate = loan_data.int_rate.astype('str').apply(lambda x : x.rstrip('%')).astype('float64')"
   ]
  },
  {
   "cell_type": "code",
   "execution_count": null,
   "id": "313e3fbe",
   "metadata": {},
   "outputs": [],
   "source": [
    "loan_data.int_rate.dtype"
   ]
  },
  {
   "cell_type": "markdown",
   "id": "2f5808bc",
   "metadata": {},
   "source": [
    "- Analyze columns for least distintive values."
   ]
  },
  {
   "cell_type": "code",
   "execution_count": null,
   "id": "2adaeeb3",
   "metadata": {},
   "outputs": [],
   "source": [
    "loan_data.delinq_amnt.value_counts()"
   ]
  },
  {
   "cell_type": "code",
   "execution_count": null,
   "id": "2d1941ce",
   "metadata": {},
   "outputs": [],
   "source": [
    "loan_data.chargeoff_within_12_mths.value_counts()"
   ]
  },
  {
   "cell_type": "code",
   "execution_count": null,
   "id": "56e76aa2",
   "metadata": {},
   "outputs": [],
   "source": [
    "loan_data.acc_now_delinq.value_counts()"
   ]
  },
  {
   "cell_type": "code",
   "execution_count": null,
   "id": "cdb933a5",
   "metadata": {},
   "outputs": [],
   "source": [
    "loan_data.application_type.value_counts()"
   ]
  },
  {
   "cell_type": "code",
   "execution_count": null,
   "id": "bf8241d8",
   "metadata": {},
   "outputs": [],
   "source": [
    "loan_data.policy_code.value_counts()"
   ]
  },
  {
   "cell_type": "code",
   "execution_count": null,
   "id": "503af99c",
   "metadata": {},
   "outputs": [],
   "source": [
    "loan_data.tax_liens.value_counts()"
   ]
  },
  {
   "cell_type": "code",
   "execution_count": null,
   "id": "b2b24249",
   "metadata": {},
   "outputs": [],
   "source": [
    "loan_data.collections_12_mths_ex_med.value_counts()"
   ]
  },
  {
   "cell_type": "markdown",
   "id": "8c04dfd2",
   "metadata": {},
   "source": [
    "- Drop columns with least distinctive values or repetitive values"
   ]
  },
  {
   "cell_type": "code",
   "execution_count": null,
   "id": "cdac9929",
   "metadata": {},
   "outputs": [],
   "source": [
    "loan_data.drop(['delinq_amnt','chargeoff_within_12_mths','acc_now_delinq','application_type','policy_code','tax_liens','collections_12_mths_ex_med'], axis = 1,inplace = True) "
   ]
  },
  {
   "cell_type": "code",
   "execution_count": null,
   "id": "04c177e3",
   "metadata": {},
   "outputs": [],
   "source": [
    "loan_data.shape"
   ]
  },
  {
   "cell_type": "markdown",
   "id": "f1666251",
   "metadata": {},
   "source": [
    "- Check correlation between the quantitative parameters"
   ]
  },
  {
   "cell_type": "code",
   "execution_count": null,
   "id": "c015fcea",
   "metadata": {},
   "outputs": [],
   "source": [
    "loan_data.corr()"
   ]
  },
  {
   "cell_type": "code",
   "execution_count": null,
   "id": "1d49791a",
   "metadata": {},
   "outputs": [],
   "source": [
    "sns.heatmap(loan_data.corr(), cmap=\"YlGnBu\", annot=True)\n",
    "plt.show()"
   ]
  },
  {
   "cell_type": "markdown",
   "id": "6fbdecb1",
   "metadata": {},
   "source": [
    "### 3.4 Post Pandas Profiling <a id=section304></a>"
   ]
  },
  {
   "cell_type": "code",
   "execution_count": null,
   "id": "9eca6ccd",
   "metadata": {},
   "outputs": [],
   "source": [
    "profile = pp.ProfileReport(loan_data)\n",
    "profile.to_file(\"loan_data_after_preprocessing.html\")"
   ]
  },
  {
   "cell_type": "markdown",
   "id": "62af9924",
   "metadata": {},
   "source": [
    "### 4. Questions <a id=section4></a>"
   ]
  },
  {
   "cell_type": "markdown",
   "id": "91d85cd7",
   "metadata": {},
   "source": [
    "### 4.1  <a id=section401></a>"
   ]
  },
  {
   "cell_type": "code",
   "execution_count": null,
   "id": "48b76b55",
   "metadata": {},
   "outputs": [],
   "source": []
  }
 ],
 "metadata": {
  "kernelspec": {
   "display_name": "Python 3 (ipykernel)",
   "language": "python",
   "name": "python3"
  },
  "language_info": {
   "codemirror_mode": {
    "name": "ipython",
    "version": 3
   },
   "file_extension": ".py",
   "mimetype": "text/x-python",
   "name": "python",
   "nbconvert_exporter": "python",
   "pygments_lexer": "ipython3",
   "version": "3.9.7"
  }
 },
 "nbformat": 4,
 "nbformat_minor": 5
}
